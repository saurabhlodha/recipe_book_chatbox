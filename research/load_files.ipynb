{
 "cells": [
  {
   "cell_type": "code",
   "id": "initial_id",
   "metadata": {
    "collapsed": true,
    "ExecuteTime": {
     "end_time": "2024-09-27T16:29:52.727966Z",
     "start_time": "2024-09-27T16:29:52.610683Z"
    }
   },
   "source": "!pwd",
   "outputs": [
    {
     "name": "stdout",
     "output_type": "stream",
     "text": [
      "/Users/saurabh/python_projects/find-recipe/research\r\n"
     ]
    }
   ],
   "execution_count": 1
  },
  {
   "metadata": {
    "ExecuteTime": {
     "end_time": "2024-09-26T23:10:30.197753Z",
     "start_time": "2024-09-26T23:10:30.194962Z"
    }
   },
   "cell_type": "code",
   "source": "import os",
   "id": "1d13de2d28f4ba4a",
   "outputs": [],
   "execution_count": 2
  },
  {
   "metadata": {
    "ExecuteTime": {
     "end_time": "2024-09-27T16:29:55.416709Z",
     "start_time": "2024-09-27T16:29:55.412755Z"
    }
   },
   "cell_type": "code",
   "source": "cd ../",
   "id": "ac4d96e1a79b3712",
   "outputs": [
    {
     "name": "stdout",
     "output_type": "stream",
     "text": [
      "/Users/saurabh/python_projects/find-recipe\n"
     ]
    }
   ],
   "execution_count": 2
  },
  {
   "metadata": {},
   "cell_type": "markdown",
   "source": "",
   "id": "3854b7bfff6186f6"
  },
  {
   "metadata": {
    "ExecuteTime": {
     "end_time": "2024-09-27T16:39:38.157807Z",
     "start_time": "2024-09-27T16:39:38.152365Z"
    }
   },
   "cell_type": "code",
   "source": "from src.helper import *;",
   "id": "1abb388820dbdf74",
   "outputs": [],
   "execution_count": 15
  },
  {
   "metadata": {
    "ExecuteTime": {
     "end_time": "2024-09-27T16:39:39.510821Z",
     "start_time": "2024-09-27T16:39:39.486205Z"
    }
   },
   "cell_type": "code",
   "source": "llm = ResponseLLM()",
   "id": "b480378db5868153",
   "outputs": [],
   "execution_count": 16
  },
  {
   "metadata": {
    "ExecuteTime": {
     "end_time": "2024-09-26T00:07:44.007507Z",
     "start_time": "2024-09-26T00:07:36.880865Z"
    }
   },
   "cell_type": "code",
   "source": "!pip install -r requirements.txt",
   "id": "3333bd9d0c2eea08",
   "outputs": [
    {
     "name": "stdout",
     "output_type": "stream",
     "text": [
      "Requirement already satisfied: aiohttp==3.9.5 in /Users/saurabh/anaconda3/lib/python3.11/site-packages (from -r requirements.txt (line 1)) (3.9.5)\r\n",
      "Requirement already satisfied: aiosignal==1.3.1 in /Users/saurabh/anaconda3/lib/python3.11/site-packages (from -r requirements.txt (line 2)) (1.3.1)\r\n",
      "Requirement already satisfied: pymongo in /Users/saurabh/anaconda3/lib/python3.11/site-packages (from -r requirements.txt (line 3)) (4.7.3)\r\n",
      "Collecting zipfile36 (from -r requirements.txt (line 4))\r\n",
      "  Obtaining dependency information for zipfile36 from https://files.pythonhosted.org/packages/fd/8a/3b7da0b0bd87d1ef05b74207827c72d348b56a0d6d83242582be18a81e02/zipfile36-0.1.3-py3-none-any.whl.metadata\r\n",
      "  Using cached zipfile36-0.1.3-py3-none-any.whl.metadata (736 bytes)\r\n",
      "Requirement already satisfied: altair==5.3.0 in /Users/saurabh/anaconda3/lib/python3.11/site-packages (from -r requirements.txt (line 5)) (5.3.0)\r\n",
      "Requirement already satisfied: annotated-types==0.7.0 in /Users/saurabh/anaconda3/lib/python3.11/site-packages (from -r requirements.txt (line 6)) (0.7.0)\r\n",
      "Requirement already satisfied: async-timeout==4.0.3 in /Users/saurabh/anaconda3/lib/python3.11/site-packages (from -r requirements.txt (line 7)) (4.0.3)\r\n",
      "Requirement already satisfied: attrs==23.2.0 in /Users/saurabh/anaconda3/lib/python3.11/site-packages (from -r requirements.txt (line 8)) (23.2.0)\r\n",
      "Requirement already satisfied: bcrypt==4.1.3 in /Users/saurabh/anaconda3/lib/python3.11/site-packages (from -r requirements.txt (line 9)) (4.1.3)\r\n",
      "Requirement already satisfied: beautifulsoup4==4.12.3 in /Users/saurabh/anaconda3/lib/python3.11/site-packages (from -r requirements.txt (line 10)) (4.12.3)\r\n",
      "Requirement already satisfied: blinker==1.8.2 in /Users/saurabh/anaconda3/lib/python3.11/site-packages (from -r requirements.txt (line 11)) (1.8.2)\r\n",
      "Requirement already satisfied: cachetools==5.3.3 in /Users/saurabh/anaconda3/lib/python3.11/site-packages (from -r requirements.txt (line 12)) (5.3.3)\r\n",
      "Requirement already satisfied: certifi==2024.2.2 in /Users/saurabh/anaconda3/lib/python3.11/site-packages (from -r requirements.txt (line 13)) (2024.2.2)\r\n",
      "Requirement already satisfied: charset-normalizer==3.3.2 in /Users/saurabh/anaconda3/lib/python3.11/site-packages (from -r requirements.txt (line 14)) (3.3.2)\r\n",
      "Requirement already satisfied: click==8.1.7 in /Users/saurabh/anaconda3/lib/python3.11/site-packages (from -r requirements.txt (line 15)) (8.1.7)\r\n",
      "Requirement already satisfied: colorama==0.4.6 in /Users/saurabh/anaconda3/lib/python3.11/site-packages (from -r requirements.txt (line 16)) (0.4.6)\r\n",
      "Requirement already satisfied: dataclasses-json==0.6.6 in /Users/saurabh/anaconda3/lib/python3.11/site-packages (from -r requirements.txt (line 17)) (0.6.6)\r\n",
      "Requirement already satisfied: dnspython==2.6.1 in /Users/saurabh/anaconda3/lib/python3.11/site-packages (from -r requirements.txt (line 18)) (2.6.1)\r\n",
      "Collecting faiss-cpu==1.8.0 (from -r requirements.txt (line 19))\r\n",
      "  Obtaining dependency information for faiss-cpu==1.8.0 from https://files.pythonhosted.org/packages/c3/d3/2465dda67d48c873fcce7dbfa8018a0ae648e150e4d336c84e8ba553c897/faiss_cpu-1.8.0-cp311-cp311-macosx_11_0_arm64.whl.metadata\r\n",
      "  Using cached faiss_cpu-1.8.0-cp311-cp311-macosx_11_0_arm64.whl.metadata (3.6 kB)\r\n",
      "Requirement already satisfied: frozenlist==1.4.1 in /Users/saurabh/anaconda3/lib/python3.11/site-packages (from -r requirements.txt (line 20)) (1.4.1)\r\n",
      "Requirement already satisfied: gitdb==4.0.11 in /Users/saurabh/anaconda3/lib/python3.11/site-packages (from -r requirements.txt (line 21)) (4.0.11)\r\n",
      "Requirement already satisfied: GitPython==3.1.43 in /Users/saurabh/anaconda3/lib/python3.11/site-packages (from -r requirements.txt (line 22)) (3.1.43)\r\n",
      "Collecting google-ai-generativelanguage==0.4.0 (from -r requirements.txt (line 23))\r\n",
      "  Obtaining dependency information for google-ai-generativelanguage==0.4.0 from https://files.pythonhosted.org/packages/40/c2/d28988d3cba74e712f47a498e2b3e3b58ac215106019bf5d8c20f8ab9822/google_ai_generativelanguage-0.4.0-py3-none-any.whl.metadata\r\n",
      "  Using cached google_ai_generativelanguage-0.4.0-py3-none-any.whl.metadata (5.1 kB)\r\n",
      "Requirement already satisfied: google-api-core==2.19.0 in /Users/saurabh/anaconda3/lib/python3.11/site-packages (from -r requirements.txt (line 24)) (2.19.0)\r\n",
      "Requirement already satisfied: google-auth==2.29.0 in /Users/saurabh/anaconda3/lib/python3.11/site-packages (from -r requirements.txt (line 25)) (2.29.0)\r\n",
      "Collecting google-generativeai==0.4.1 (from -r requirements.txt (line 26))\r\n",
      "  Obtaining dependency information for google-generativeai==0.4.1 from https://files.pythonhosted.org/packages/36/b7/5dbfe5703ace647e7250da9b9e746c4e9287eacfb5097cfa8fb2c15f1209/google_generativeai-0.4.1-py3-none-any.whl.metadata\r\n",
      "  Using cached google_generativeai-0.4.1-py3-none-any.whl.metadata (6.2 kB)\r\n",
      "Requirement already satisfied: googleapis-common-protos==1.63.0 in /Users/saurabh/anaconda3/lib/python3.11/site-packages (from -r requirements.txt (line 27)) (1.63.0)\r\n",
      "Requirement already satisfied: greenlet==3.0.3 in /Users/saurabh/anaconda3/lib/python3.11/site-packages (from -r requirements.txt (line 28)) (3.0.3)\r\n",
      "Collecting grpcio==1.64.0 (from -r requirements.txt (line 29))\r\n",
      "  Obtaining dependency information for grpcio==1.64.0 from https://files.pythonhosted.org/packages/66/e6/b52f4dbb9a93ff586053255c1077c421aa2af8636da1571b64475ebb17aa/grpcio-1.64.0-cp311-cp311-macosx_10_9_universal2.whl.metadata\r\n",
      "  Using cached grpcio-1.64.0-cp311-cp311-macosx_10_9_universal2.whl.metadata (3.3 kB)\r\n",
      "Requirement already satisfied: grpcio-status==1.62.2 in /Users/saurabh/anaconda3/lib/python3.11/site-packages (from -r requirements.txt (line 30)) (1.62.2)\r\n",
      "Requirement already satisfied: idna==3.7 in /Users/saurabh/anaconda3/lib/python3.11/site-packages (from -r requirements.txt (line 31)) (3.7)\r\n",
      "Requirement already satisfied: Jinja2==3.1.4 in /Users/saurabh/anaconda3/lib/python3.11/site-packages (from -r requirements.txt (line 32)) (3.1.4)\r\n",
      "Requirement already satisfied: jsonpatch==1.33 in /Users/saurabh/anaconda3/lib/python3.11/site-packages (from -r requirements.txt (line 33)) (1.33)\r\n",
      "Requirement already satisfied: jsonpointer==2.4 in /Users/saurabh/anaconda3/lib/python3.11/site-packages (from -r requirements.txt (line 34)) (2.4)\r\n",
      "Requirement already satisfied: jsonschema==4.22.0 in /Users/saurabh/anaconda3/lib/python3.11/site-packages (from -r requirements.txt (line 35)) (4.22.0)\r\n",
      "Requirement already satisfied: jsonschema-specifications==2023.12.1 in /Users/saurabh/anaconda3/lib/python3.11/site-packages (from -r requirements.txt (line 36)) (2023.12.1)\r\n",
      "Collecting langchain==0.1.20 (from -r requirements.txt (line 37))\r\n",
      "  Obtaining dependency information for langchain==0.1.20 from https://files.pythonhosted.org/packages/4b/28/da40a6b12e7842a0c8b443f8cc5c6f59e49d7a9071cfad064b9639c6b044/langchain-0.1.20-py3-none-any.whl.metadata\r\n",
      "  Using cached langchain-0.1.20-py3-none-any.whl.metadata (13 kB)\r\n",
      "Requirement already satisfied: langchain-community==0.0.38 in /Users/saurabh/anaconda3/lib/python3.11/site-packages (from -r requirements.txt (line 38)) (0.0.38)\r\n",
      "Requirement already satisfied: langchain-core==0.1.52 in /Users/saurabh/anaconda3/lib/python3.11/site-packages (from -r requirements.txt (line 39)) (0.1.52)\r\n",
      "Collecting langchain-google-genai==0.0.11 (from -r requirements.txt (line 40))\r\n",
      "  Obtaining dependency information for langchain-google-genai==0.0.11 from https://files.pythonhosted.org/packages/be/59/d398bf4fe5a6d730eb7515840565d3068025252e1ffa256a8c61f4e5a711/langchain_google_genai-0.0.11-py3-none-any.whl.metadata\r\n",
      "  Using cached langchain_google_genai-0.0.11-py3-none-any.whl.metadata (3.8 kB)\r\n",
      "Collecting langchain-text-splitters==0.0.2 (from -r requirements.txt (line 41))\r\n",
      "  Obtaining dependency information for langchain-text-splitters==0.0.2 from https://files.pythonhosted.org/packages/68/6a/804fe5ca07129046a4cedc0697222ddde6156cd874c4c4ba29e4d271828a/langchain_text_splitters-0.0.2-py3-none-any.whl.metadata\r\n",
      "  Using cached langchain_text_splitters-0.0.2-py3-none-any.whl.metadata (2.2 kB)\r\n",
      "Requirement already satisfied: langsmith==0.1.60 in /Users/saurabh/anaconda3/lib/python3.11/site-packages (from -r requirements.txt (line 42)) (0.1.60)\r\n",
      "Requirement already satisfied: markdown-it-py==3.0.0 in /Users/saurabh/anaconda3/lib/python3.11/site-packages (from -r requirements.txt (line 43)) (3.0.0)\r\n",
      "Requirement already satisfied: MarkupSafe==2.1.5 in /Users/saurabh/anaconda3/lib/python3.11/site-packages (from -r requirements.txt (line 44)) (2.1.5)\r\n",
      "Requirement already satisfied: marshmallow==3.21.2 in /Users/saurabh/anaconda3/lib/python3.11/site-packages (from -r requirements.txt (line 45)) (3.21.2)\r\n",
      "Requirement already satisfied: mdurl==0.1.2 in /Users/saurabh/anaconda3/lib/python3.11/site-packages (from -r requirements.txt (line 46)) (0.1.2)\r\n",
      "Requirement already satisfied: multidict==6.0.5 in /Users/saurabh/anaconda3/lib/python3.11/site-packages (from -r requirements.txt (line 47)) (6.0.5)\r\n",
      "Requirement already satisfied: mypy-extensions==1.0.0 in /Users/saurabh/anaconda3/lib/python3.11/site-packages (from -r requirements.txt (line 48)) (1.0.0)\r\n",
      "Requirement already satisfied: numpy==1.26.4 in /Users/saurabh/anaconda3/lib/python3.11/site-packages (from -r requirements.txt (line 49)) (1.26.4)\r\n",
      "Requirement already satisfied: orjson==3.10.3 in /Users/saurabh/anaconda3/lib/python3.11/site-packages (from -r requirements.txt (line 50)) (3.10.3)\r\n",
      "Requirement already satisfied: packaging==23.2 in /Users/saurabh/anaconda3/lib/python3.11/site-packages (from -r requirements.txt (line 51)) (23.2)\r\n",
      "Requirement already satisfied: pandas==2.2.2 in /Users/saurabh/anaconda3/lib/python3.11/site-packages (from -r requirements.txt (line 52)) (2.2.2)\r\n",
      "Requirement already satisfied: pillow==10.3.0 in /Users/saurabh/anaconda3/lib/python3.11/site-packages (from -r requirements.txt (line 53)) (10.3.0)\r\n",
      "Requirement already satisfied: proto-plus==1.23.0 in /Users/saurabh/anaconda3/lib/python3.11/site-packages (from -r requirements.txt (line 54)) (1.23.0)\r\n",
      "Requirement already satisfied: protobuf==4.25.3 in /Users/saurabh/anaconda3/lib/python3.11/site-packages (from -r requirements.txt (line 55)) (4.25.3)\r\n",
      "Requirement already satisfied: pyarrow==16.1.0 in /Users/saurabh/anaconda3/lib/python3.11/site-packages (from -r requirements.txt (line 56)) (16.1.0)\r\n",
      "Requirement already satisfied: pyasn1==0.6.0 in /Users/saurabh/anaconda3/lib/python3.11/site-packages (from -r requirements.txt (line 57)) (0.6.0)\r\n",
      "Collecting pyasn1_modules==0.4.0 (from -r requirements.txt (line 58))\r\n",
      "  Obtaining dependency information for pyasn1_modules==0.4.0 from https://files.pythonhosted.org/packages/13/68/8906226b15ef38e71dc926c321d2fe99de8048e9098b5dfd38343011c886/pyasn1_modules-0.4.0-py3-none-any.whl.metadata\r\n",
      "  Using cached pyasn1_modules-0.4.0-py3-none-any.whl.metadata (3.4 kB)\r\n",
      "Requirement already satisfied: pydantic==2.7.1 in /Users/saurabh/anaconda3/lib/python3.11/site-packages (from -r requirements.txt (line 59)) (2.7.1)\r\n",
      "Requirement already satisfied: pydantic_core==2.18.2 in /Users/saurabh/anaconda3/lib/python3.11/site-packages (from -r requirements.txt (line 60)) (2.18.2)\r\n",
      "Collecting pydeck==0.9.1 (from -r requirements.txt (line 61))\r\n",
      "  Obtaining dependency information for pydeck==0.9.1 from https://files.pythonhosted.org/packages/ab/4c/b888e6cf58bd9db9c93f40d1c6be8283ff49d88919231afe93a6bcf61626/pydeck-0.9.1-py2.py3-none-any.whl.metadata\r\n",
      "  Using cached pydeck-0.9.1-py2.py3-none-any.whl.metadata (4.1 kB)\r\n",
      "Requirement already satisfied: Pygments==2.18.0 in /Users/saurabh/anaconda3/lib/python3.11/site-packages (from -r requirements.txt (line 62)) (2.18.0)\r\n",
      "Collecting pypdf==4.2.0 (from -r requirements.txt (line 64))\r\n",
      "  Obtaining dependency information for pypdf==4.2.0 from https://files.pythonhosted.org/packages/c9/d1/450b19bbdbb2c802f554312c62ce2a2c0d8744fe14735bc70ad2803578c7/pypdf-4.2.0-py3-none-any.whl.metadata\r\n",
      "  Using cached pypdf-4.2.0-py3-none-any.whl.metadata (7.4 kB)\r\n",
      "Requirement already satisfied: python-dateutil==2.9.0.post0 in /Users/saurabh/anaconda3/lib/python3.11/site-packages (from -r requirements.txt (line 65)) (2.9.0.post0)\r\n",
      "Requirement already satisfied: python-dotenv==1.0.1 in /Users/saurabh/anaconda3/lib/python3.11/site-packages (from -r requirements.txt (line 66)) (1.0.1)\r\n",
      "Requirement already satisfied: pytz==2024.1 in /Users/saurabh/anaconda3/lib/python3.11/site-packages (from -r requirements.txt (line 67)) (2024.1)\r\n",
      "Requirement already satisfied: PyYAML==6.0.1 in /Users/saurabh/anaconda3/lib/python3.11/site-packages (from -r requirements.txt (line 68)) (6.0.1)\r\n",
      "Requirement already satisfied: referencing==0.35.1 in /Users/saurabh/anaconda3/lib/python3.11/site-packages (from -r requirements.txt (line 69)) (0.35.1)\r\n",
      "Requirement already satisfied: requests==2.32.1 in /Users/saurabh/anaconda3/lib/python3.11/site-packages (from -r requirements.txt (line 70)) (2.32.1)\r\n",
      "Requirement already satisfied: rich==13.7.1 in /Users/saurabh/anaconda3/lib/python3.11/site-packages (from -r requirements.txt (line 71)) (13.7.1)\r\n",
      "Requirement already satisfied: rpds-py==0.18.1 in /Users/saurabh/anaconda3/lib/python3.11/site-packages (from -r requirements.txt (line 72)) (0.18.1)\r\n",
      "Requirement already satisfied: rsa==4.9 in /Users/saurabh/anaconda3/lib/python3.11/site-packages (from -r requirements.txt (line 73)) (4.9)\r\n",
      "Requirement already satisfied: six==1.16.0 in /Users/saurabh/anaconda3/lib/python3.11/site-packages (from -r requirements.txt (line 74)) (1.16.0)\r\n",
      "Collecting smmap==5.0.1 (from -r requirements.txt (line 75))\r\n",
      "  Obtaining dependency information for smmap==5.0.1 from https://files.pythonhosted.org/packages/a7/a5/10f97f73544edcdef54409f1d839f6049a0d79df68adbc1ceb24d1aaca42/smmap-5.0.1-py3-none-any.whl.metadata\r\n",
      "  Using cached smmap-5.0.1-py3-none-any.whl.metadata (4.3 kB)\r\n",
      "Requirement already satisfied: soupsieve==2.5 in /Users/saurabh/anaconda3/lib/python3.11/site-packages (from -r requirements.txt (line 76)) (2.5)\r\n",
      "Requirement already satisfied: SQLAlchemy==2.0.30 in /Users/saurabh/anaconda3/lib/python3.11/site-packages (from -r requirements.txt (line 77)) (2.0.30)\r\n",
      "Requirement already satisfied: streamlit==1.34.0 in /Users/saurabh/anaconda3/lib/python3.11/site-packages (from -r requirements.txt (line 78)) (1.34.0)\r\n",
      "Collecting streamlit-option-menu==0.3.13 (from -r requirements.txt (line 79))\r\n",
      "  Obtaining dependency information for streamlit-option-menu==0.3.13 from https://files.pythonhosted.org/packages/9c/92/beca635ffbc712140bc88486caa9be31a3ba44ea5657b7cfd540d009a05d/streamlit_option_menu-0.3.13-py3-none-any.whl.metadata\r\n",
      "  Using cached streamlit_option_menu-0.3.13-py3-none-any.whl.metadata (2.5 kB)\r\n",
      "Requirement already satisfied: tenacity==8.3.0 in /Users/saurabh/anaconda3/lib/python3.11/site-packages (from -r requirements.txt (line 80)) (8.3.0)\r\n",
      "Requirement already satisfied: toml==0.10.2 in /Users/saurabh/anaconda3/lib/python3.11/site-packages (from -r requirements.txt (line 81)) (0.10.2)\r\n",
      "Requirement already satisfied: toolz==0.12.1 in /Users/saurabh/anaconda3/lib/python3.11/site-packages (from -r requirements.txt (line 82)) (0.12.1)\r\n",
      "Requirement already satisfied: tornado==6.4 in /Users/saurabh/anaconda3/lib/python3.11/site-packages (from -r requirements.txt (line 83)) (6.4)\r\n",
      "Requirement already satisfied: tqdm==4.66.4 in /Users/saurabh/anaconda3/lib/python3.11/site-packages (from -r requirements.txt (line 84)) (4.66.4)\r\n",
      "Requirement already satisfied: typing-inspect==0.9.0 in /Users/saurabh/anaconda3/lib/python3.11/site-packages (from -r requirements.txt (line 85)) (0.9.0)\r\n",
      "Requirement already satisfied: typing_extensions==4.11.0 in /Users/saurabh/anaconda3/lib/python3.11/site-packages (from -r requirements.txt (line 86)) (4.11.0)\r\n",
      "Collecting tzdata==2024.1 (from -r requirements.txt (line 87))\r\n",
      "  Obtaining dependency information for tzdata==2024.1 from https://files.pythonhosted.org/packages/65/58/f9c9e6be752e9fcb8b6a0ee9fb87e6e7a1f6bcab2cdc73f02bb7ba91ada0/tzdata-2024.1-py2.py3-none-any.whl.metadata\r\n",
      "  Using cached tzdata-2024.1-py2.py3-none-any.whl.metadata (1.4 kB)\r\n",
      "Requirement already satisfied: urllib3==2.2.1 in /Users/saurabh/anaconda3/lib/python3.11/site-packages (from -r requirements.txt (line 88)) (2.2.1)\r\n",
      "Requirement already satisfied: watchdog==4.0.0 in /Users/saurabh/anaconda3/lib/python3.11/site-packages (from -r requirements.txt (line 89)) (4.0.0)\r\n",
      "Requirement already satisfied: yarl==1.9.4 in /Users/saurabh/anaconda3/lib/python3.11/site-packages (from -r requirements.txt (line 90)) (1.9.4)\r\n",
      "Collecting langchain_groq (from -r requirements.txt (line 91))\r\n",
      "  Obtaining dependency information for langchain_groq from https://files.pythonhosted.org/packages/dd/85/425765bc9895f992059a5b893dd6843d795b62b68a78c738a990767c7c87/langchain_groq-0.2.0-py3-none-any.whl.metadata\r\n",
      "  Using cached langchain_groq-0.2.0-py3-none-any.whl.metadata (2.9 kB)\r\n",
      "Collecting groq<1,>=0.4.1 (from langchain_groq->-r requirements.txt (line 91))\r\n",
      "  Obtaining dependency information for groq<1,>=0.4.1 from https://files.pythonhosted.org/packages/94/c3/8bf3cd2987e262f9fd45024313dae1d009edaa7a5b429566edfdaedaa024/groq-0.11.0-py3-none-any.whl.metadata\r\n",
      "  Using cached groq-0.11.0-py3-none-any.whl.metadata (13 kB)\r\n",
      "INFO: pip is looking at multiple versions of langchain-groq to determine which version is compatible with other requirements. This could take a while.\r\n",
      "Collecting langchain_groq (from -r requirements.txt (line 91))\r\n",
      "  Obtaining dependency information for langchain_groq from https://files.pythonhosted.org/packages/a5/33/fb1f1cbc2fb644b09e075eb030e2c1ffb71b03d62800d4994e56f77e2b9a/langchain_groq-0.1.10-py3-none-any.whl.metadata\r\n",
      "  Using cached langchain_groq-0.1.10-py3-none-any.whl.metadata (2.9 kB)\r\n",
      "  Obtaining dependency information for langchain_groq from https://files.pythonhosted.org/packages/61/58/01bdd52b216e472da749b1d7c6fcc5f0b2b2d3d7ac8a111f71351a587d31/langchain_groq-0.1.9-py3-none-any.whl.metadata\r\n",
      "  Using cached langchain_groq-0.1.9-py3-none-any.whl.metadata (2.9 kB)\r\n",
      "  Obtaining dependency information for langchain_groq from https://files.pythonhosted.org/packages/6e/e6/31e61473f40d36e33d47bc9b9ea9708bd0e7398bf4c1527dd87266b9a2c3/langchain_groq-0.1.8-py3-none-any.whl.metadata\r\n",
      "  Using cached langchain_groq-0.1.8-py3-none-any.whl.metadata (2.9 kB)\r\n",
      "  Obtaining dependency information for langchain_groq from https://files.pythonhosted.org/packages/b7/61/201043448d897dba9857c04fc8810802c5f04950ee2d0e1129025feb84d1/langchain_groq-0.1.6-py3-none-any.whl.metadata\r\n",
      "  Using cached langchain_groq-0.1.6-py3-none-any.whl.metadata (2.8 kB)\r\n",
      "  Obtaining dependency information for langchain_groq from https://files.pythonhosted.org/packages/9d/11/d04b5e091125c3deef49f10bae82d5b74a09d964683292bb653b930041a8/langchain_groq-0.1.5-py3-none-any.whl.metadata\r\n",
      "  Using cached langchain_groq-0.1.5-py3-none-any.whl.metadata (2.8 kB)\r\n",
      "Requirement already satisfied: anyio<5,>=3.5.0 in /Users/saurabh/anaconda3/lib/python3.11/site-packages (from groq<1,>=0.4.1->langchain_groq->-r requirements.txt (line 91)) (4.2.0)\r\n",
      "Requirement already satisfied: distro<2,>=1.7.0 in /Users/saurabh/anaconda3/lib/python3.11/site-packages (from groq<1,>=0.4.1->langchain_groq->-r requirements.txt (line 91)) (1.8.0)\r\n",
      "Requirement already satisfied: httpx<1,>=0.23.0 in /Users/saurabh/anaconda3/lib/python3.11/site-packages (from groq<1,>=0.4.1->langchain_groq->-r requirements.txt (line 91)) (0.26.0)\r\n",
      "Requirement already satisfied: sniffio in /Users/saurabh/anaconda3/lib/python3.11/site-packages (from groq<1,>=0.4.1->langchain_groq->-r requirements.txt (line 91)) (1.3.0)\r\n",
      "Requirement already satisfied: httpcore==1.* in /Users/saurabh/anaconda3/lib/python3.11/site-packages (from httpx<1,>=0.23.0->groq<1,>=0.4.1->langchain_groq->-r requirements.txt (line 91)) (1.0.2)\r\n",
      "Requirement already satisfied: h11<0.15,>=0.13 in /Users/saurabh/anaconda3/lib/python3.11/site-packages (from httpcore==1.*->httpx<1,>=0.23.0->groq<1,>=0.4.1->langchain_groq->-r requirements.txt (line 91)) (0.14.0)\r\n",
      "Using cached faiss_cpu-1.8.0-cp311-cp311-macosx_11_0_arm64.whl (3.1 MB)\r\n",
      "Using cached google_ai_generativelanguage-0.4.0-py3-none-any.whl (598 kB)\r\n",
      "Using cached google_generativeai-0.4.1-py3-none-any.whl (137 kB)\r\n",
      "Using cached grpcio-1.64.0-cp311-cp311-macosx_10_9_universal2.whl (10.4 MB)\r\n",
      "Using cached langchain-0.1.20-py3-none-any.whl (1.0 MB)\r\n",
      "Using cached langchain_google_genai-0.0.11-py3-none-any.whl (28 kB)\r\n",
      "Using cached langchain_text_splitters-0.0.2-py3-none-any.whl (23 kB)\r\n",
      "Using cached pyasn1_modules-0.4.0-py3-none-any.whl (181 kB)\r\n",
      "Using cached pydeck-0.9.1-py2.py3-none-any.whl (6.9 MB)\r\n",
      "Using cached pypdf-4.2.0-py3-none-any.whl (290 kB)\r\n",
      "Using cached smmap-5.0.1-py3-none-any.whl (24 kB)\r\n",
      "Using cached streamlit_option_menu-0.3.13-py3-none-any.whl (823 kB)\r\n",
      "Using cached tzdata-2024.1-py2.py3-none-any.whl (345 kB)\r\n",
      "Using cached zipfile36-0.1.3-py3-none-any.whl (20 kB)\r\n",
      "Using cached langchain_groq-0.1.5-py3-none-any.whl (11 kB)\r\n",
      "Using cached groq-0.11.0-py3-none-any.whl (106 kB)\r\n",
      "Installing collected packages: zipfile36, tzdata, smmap, pypdf, pyasn1_modules, grpcio, faiss-cpu, pydeck, groq, langchain-text-splitters, langchain_groq, google-ai-generativelanguage, streamlit-option-menu, langchain, google-generativeai, langchain-google-genai\r\n",
      "  Attempting uninstall: tzdata\r\n",
      "    Found existing installation: tzdata 2023.3\r\n",
      "    Uninstalling tzdata-2023.3:\r\n",
      "      Successfully uninstalled tzdata-2023.3\r\n",
      "  Attempting uninstall: smmap\r\n",
      "    Found existing installation: smmap 4.0.0\r\n",
      "    Uninstalling smmap-4.0.0:\r\n",
      "      Successfully uninstalled smmap-4.0.0\r\n",
      "  Attempting uninstall: pyasn1_modules\r\n",
      "    Found existing installation: pyasn1_modules 0.4.1\r\n",
      "    Uninstalling pyasn1_modules-0.4.1:\r\n",
      "      Successfully uninstalled pyasn1_modules-0.4.1\r\n",
      "  Attempting uninstall: grpcio\r\n",
      "    Found existing installation: grpcio 1.62.2\r\n",
      "    Uninstalling grpcio-1.62.2:\r\n",
      "      Successfully uninstalled grpcio-1.62.2\r\n",
      "  Attempting uninstall: pydeck\r\n",
      "    Found existing installation: pydeck 0.8.0b4\r\n",
      "    Uninstalling pydeck-0.8.0b4:\r\n",
      "      Successfully uninstalled pydeck-0.8.0b4\r\n",
      "Successfully installed faiss-cpu-1.8.0 google-ai-generativelanguage-0.4.0 google-generativeai-0.4.1 groq-0.11.0 grpcio-1.64.0 langchain-0.1.20 langchain-google-genai-0.0.11 langchain-text-splitters-0.0.2 langchain_groq-0.1.5 pyasn1_modules-0.4.0 pydeck-0.9.1 pypdf-4.2.0 smmap-5.0.1 streamlit-option-menu-0.3.13 tzdata-2024.1 zipfile36-0.1.3\r\n"
     ]
    }
   ],
   "execution_count": 6
  },
  {
   "metadata": {
    "ExecuteTime": {
     "end_time": "2024-09-27T16:39:43.832854Z",
     "start_time": "2024-09-27T16:39:43.830530Z"
    }
   },
   "cell_type": "code",
   "source": "repo_name = os.listdir('temp/')",
   "id": "c75b3a77d9ad82e6",
   "outputs": [],
   "execution_count": 17
  },
  {
   "metadata": {
    "ExecuteTime": {
     "end_time": "2024-09-27T16:39:46.805287Z",
     "start_time": "2024-09-27T16:39:46.800066Z"
    }
   },
   "cell_type": "code",
   "source": "repo_name",
   "id": "28fbf3b689f8e8ae",
   "outputs": [
    {
     "data": {
      "text/plain": [
       "['Indian', '.DS_Store']"
      ]
     },
     "execution_count": 18,
     "metadata": {},
     "output_type": "execute_result"
    }
   ],
   "execution_count": 18
  },
  {
   "metadata": {
    "ExecuteTime": {
     "end_time": "2024-09-27T16:39:49.247998Z",
     "start_time": "2024-09-27T16:39:49.244828Z"
    }
   },
   "cell_type": "code",
   "source": "repo_name = repo_name[0]",
   "id": "a0193f88e84c03d8",
   "outputs": [],
   "execution_count": 19
  },
  {
   "metadata": {
    "ExecuteTime": {
     "end_time": "2024-09-27T16:39:49.946888Z",
     "start_time": "2024-09-27T16:39:49.943126Z"
    }
   },
   "cell_type": "code",
   "source": "repo_name",
   "id": "24bcc52b68bf2fd3",
   "outputs": [
    {
     "data": {
      "text/plain": [
       "'Indian'"
      ]
     },
     "execution_count": 20,
     "metadata": {},
     "output_type": "execute_result"
    }
   ],
   "execution_count": 20
  },
  {
   "metadata": {
    "ExecuteTime": {
     "end_time": "2024-09-27T16:39:51.607308Z",
     "start_time": "2024-09-27T16:39:51.604728Z"
    }
   },
   "cell_type": "code",
   "source": "ebooks = f'temp/{repo_name}/'",
   "id": "c61c31889fbc34b6",
   "outputs": [],
   "execution_count": 21
  },
  {
   "metadata": {},
   "cell_type": "markdown",
   "source": "",
   "id": "7ea4fc344011210a"
  },
  {
   "metadata": {
    "ExecuteTime": {
     "end_time": "2024-09-27T16:40:44.573764Z",
     "start_time": "2024-09-27T16:39:55.415052Z"
    }
   },
   "cell_type": "code",
   "source": "documents = llm.load_ebooks(ebooks=ebooks)",
   "id": "5f203807a9c6c69a",
   "outputs": [],
   "execution_count": 22
  },
  {
   "metadata": {
    "ExecuteTime": {
     "end_time": "2024-09-27T16:40:49.670394Z",
     "start_time": "2024-09-27T16:40:49.665607Z"
    }
   },
   "cell_type": "code",
   "source": "len(documents)",
   "id": "454bde36b3d85569",
   "outputs": [
    {
     "data": {
      "text/plain": [
       "2566"
      ]
     },
     "execution_count": 23,
     "metadata": {},
     "output_type": "execute_result"
    }
   ],
   "execution_count": 23
  },
  {
   "metadata": {
    "ExecuteTime": {
     "end_time": "2024-09-27T16:41:11.518873Z",
     "start_time": "2024-09-27T16:41:11.435487Z"
    }
   },
   "cell_type": "code",
   "source": "split_text = llm.split_text(documents=documents)",
   "id": "4e7e103fa7987a85",
   "outputs": [],
   "execution_count": 24
  },
  {
   "metadata": {
    "ExecuteTime": {
     "end_time": "2024-09-27T16:41:51.865395Z",
     "start_time": "2024-09-27T16:41:13.587353Z"
    }
   },
   "cell_type": "code",
   "source": "embeddings = llm.create_embeddings(split_text=split_text, persona_name=repo_name)",
   "id": "e481c1dcd4f0eb6c",
   "outputs": [],
   "execution_count": 25
  },
  {
   "metadata": {
    "ExecuteTime": {
     "end_time": "2024-09-27T16:42:14.109155Z",
     "start_time": "2024-09-27T16:42:14.105204Z"
    }
   },
   "cell_type": "code",
   "source": "embeddings",
   "id": "30df1d8a200b1c75",
   "outputs": [
    {
     "data": {
      "text/plain": [
       "<langchain_community.vectorstores.faiss.FAISS at 0x1692609d0>"
      ]
     },
     "execution_count": 26,
     "metadata": {},
     "output_type": "execute_result"
    }
   ],
   "execution_count": 26
  },
  {
   "metadata": {},
   "cell_type": "code",
   "outputs": [],
   "execution_count": null,
   "source": "# prompt = llm.prompt_generator(name='Pav Bhaji')",
   "id": "6e96649c3d38dc0a"
  }
 ],
 "metadata": {
  "kernelspec": {
   "display_name": "Python 3",
   "language": "python",
   "name": "python3"
  },
  "language_info": {
   "codemirror_mode": {
    "name": "ipython",
    "version": 2
   },
   "file_extension": ".py",
   "mimetype": "text/x-python",
   "name": "python",
   "nbconvert_exporter": "python",
   "pygments_lexer": "ipython2",
   "version": "2.7.6"
  }
 },
 "nbformat": 4,
 "nbformat_minor": 5
}
